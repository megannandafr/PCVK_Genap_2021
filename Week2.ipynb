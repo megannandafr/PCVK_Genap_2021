{
  "nbformat": 4,
  "nbformat_minor": 0,
  "metadata": {
    "colab": {
      "name": "Week2.ipynb",
      "provenance": [],
      "authorship_tag": "ABX9TyOs8LbRjZlfOuOf9gJQ6RrD",
      "include_colab_link": true
    },
    "kernelspec": {
      "name": "python3",
      "display_name": "Python 3"
    }
  },
  "cells": [
    {
      "cell_type": "markdown",
      "metadata": {
        "id": "view-in-github",
        "colab_type": "text"
      },
      "source": [
        "<a href=\"https://colab.research.google.com/github/megannandafr/PCVK_Genap_2021/blob/main/Week2.ipynb\" target=\"_parent\"><img src=\"https://colab.research.google.com/assets/colab-badge.svg\" alt=\"Open In Colab\"/></a>"
      ]
    },
    {
      "cell_type": "code",
      "metadata": {
        "colab": {
          "base_uri": "https://localhost:8080/"
        },
        "id": "P2VN5VNnHlgV",
        "outputId": "245f0a42-7737-48ad-ff34-a4c8d3d75442"
      },
      "source": [
        "from google.colab import drive\r\n",
        "\r\n",
        "\r\n",
        "# Accessing My Google Drive\r\n",
        "drive.mount('/content/drive')\r\n",
        "\r\n",
        "import cv2 as cv\r\n",
        "from google.colab.patches import cv2_imshow\r\n",
        "from skimage import io\r\n",
        "import ma"
      ],
      "execution_count": 2,
      "outputs": [
        {
          "output_type": "stream",
          "text": [
            "Mounted at /content/drive\n"
          ],
          "name": "stdout"
        }
      ]
    }
  ]
}